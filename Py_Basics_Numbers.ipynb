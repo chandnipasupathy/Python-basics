{
  "nbformat": 4,
  "nbformat_minor": 0,
  "metadata": {
    "colab": {
      "provenance": [],
      "authorship_tag": "ABX9TyOzI/dmF8IO6SSEN8IWa7/o",
      "include_colab_link": true
    },
    "kernelspec": {
      "name": "python3",
      "display_name": "Python 3"
    },
    "language_info": {
      "name": "python"
    }
  },
  "cells": [
    {
      "cell_type": "markdown",
      "metadata": {
        "id": "view-in-github",
        "colab_type": "text"
      },
      "source": [
        "<a href=\"https://colab.research.google.com/github/chandnipasupathy/Python-basics/blob/main/Py_Basics_Numbers.ipynb\" target=\"_parent\"><img src=\"https://colab.research.google.com/assets/colab-badge.svg\" alt=\"Open In Colab\"/></a>"
      ]
    },
    {
      "cell_type": "markdown",
      "source": [
        "\n",
        "\n",
        "```\n",
        "#\n",
        "Data types in Python\n",
        "\n",
        "Numbers: \"Basic 3 numeric types in python\"\n",
        "1. integer(int) = 1,2,3,4 (Integer is a numeric type with positive or negative or numbers without decimal of unlimited strength)\n",
        "2. float(float) = 2.0,3.0,4.12  (float or floating point number is a positive or negative number containing ine or decimal)\n",
        "3. complex (complex) = 2+3j (complex numbers are which that contain real and imaginary parts represented with 'j')\n",
        "\n",
        "List:\n",
        "a = (2,3,4,\"word\")\n",
        "\n",
        "Tuple:\n",
        "a = (1,2,3)\n",
        "\n",
        "String:\n",
        "c = \"New string\"\n",
        "\n",
        "Set:\n",
        "c = {1,2,3,4}\n",
        "\n",
        "Dictionary:\n",
        "{'a'=[1,2],'b'=[2,3,4]}\n",
        "\n",
        "\n",
        "```"
      ],
      "metadata": {
        "id": "87cJti1LM7Mw"
      }
    },
    {
      "cell_type": "code",
      "execution_count": 1,
      "metadata": {
        "id": "mjPE3AqnMCKr"
      },
      "outputs": [],
      "source": [
        "# Python Numbers #\n",
        "a = 1  #integer\n",
        "b = 3.0  #float\n",
        "c = 1+2j  #complex"
      ]
    },
    {
      "cell_type": "markdown",
      "source": [],
      "metadata": {
        "id": "iQQvnMvUM5Zb"
      }
    },
    {
      "cell_type": "code",
      "source": [
        "#check their type\n",
        "print(type(a))\n",
        "print(type(b))\n",
        "print(type(c))"
      ],
      "metadata": {
        "colab": {
          "base_uri": "https://localhost:8080/"
        },
        "id": "-MDTQwqmVbOv",
        "outputId": "82cc7f2a-7212-409e-a767-3cf4858a8cb9"
      },
      "execution_count": 3,
      "outputs": [
        {
          "output_type": "stream",
          "name": "stdout",
          "text": [
            "<class 'int'>\n",
            "<class 'float'>\n",
            "<class 'complex'>\n"
          ]
        }
      ]
    },
    {
      "cell_type": "code",
      "source": [
        "#integer - positive, negative, unlimited Length\n",
        "a = +5\n",
        "b = -6\n",
        "c = 34718746146914"
      ],
      "metadata": {
        "id": "xuKouJffVh-S"
      },
      "execution_count": 5,
      "outputs": []
    },
    {
      "cell_type": "code",
      "source": [
        "#float - positive,negative,one or more decimals and can also be used along with scientific numbers like E power of number\n",
        "q = 1.0\n",
        "r = 2.454\n",
        "s = 345e47\n",
        "\n",
        "print(type(s))"
      ],
      "metadata": {
        "colab": {
          "base_uri": "https://localhost:8080/"
        },
        "id": "1StAfxdjV_hE",
        "outputId": "5b9b9ab1-2072-431e-999b-b4696ebad083"
      },
      "execution_count": 11,
      "outputs": [
        {
          "output_type": "stream",
          "name": "stdout",
          "text": [
            "<class 'float'>\n"
          ]
        }
      ]
    },
    {
      "cell_type": "code",
      "source": [
        "#complex - imaginary part with \"j\"\n",
        "d = 3j\n",
        "r = -5j\n",
        "c = 2+4j\n",
        "\n",
        "print(type(r))"
      ],
      "metadata": {
        "colab": {
          "base_uri": "https://localhost:8080/"
        },
        "id": "8XuaZ83RWV3a",
        "outputId": "f026d8b2-c4f9-4367-bc8d-47307c9743ab"
      },
      "execution_count": 12,
      "outputs": [
        {
          "output_type": "stream",
          "name": "stdout",
          "text": [
            "<class 'complex'>\n"
          ]
        }
      ]
    },
    {
      "cell_type": "code",
      "source": [
        "# type conversions from int, float, complex to int,float,complex\n",
        "# ** Note that complex numbers doesnot allow direct conversions to int or float so you can access the real or imaginary (.real,.imag) **\n",
        "a = 5\n",
        "c = 6.0\n",
        "e = 7+8j\n",
        "f = int(e.real)\n",
        "b = float(a)\n",
        "d = complex(c)\n",
        "print(b)\n",
        "print(d)\n",
        "print(e)\n",
        "print(f)"
      ],
      "metadata": {
        "colab": {
          "base_uri": "https://localhost:8080/"
        },
        "id": "_-d-Y58jXObD",
        "outputId": "ad94989f-07d4-42b3-f8f9-1ed932d32cc6"
      },
      "execution_count": 24,
      "outputs": [
        {
          "output_type": "stream",
          "name": "stdout",
          "text": [
            "5.0\n",
            "(6+0j)\n",
            "(7+8j)\n",
            "7\n"
          ]
        }
      ]
    }
  ]
}