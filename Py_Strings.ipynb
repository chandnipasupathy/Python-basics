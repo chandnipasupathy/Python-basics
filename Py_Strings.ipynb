{
  "nbformat": 4,
  "nbformat_minor": 0,
  "metadata": {
    "colab": {
      "provenance": [],
      "authorship_tag": "ABX9TyPFsRrY3SSZ0hKM14s3pAZd",
      "include_colab_link": true
    },
    "kernelspec": {
      "name": "python3",
      "display_name": "Python 3"
    },
    "language_info": {
      "name": "python"
    }
  },
  "cells": [
    {
      "cell_type": "markdown",
      "metadata": {
        "id": "view-in-github",
        "colab_type": "text"
      },
      "source": [
        "<a href=\"https://colab.research.google.com/github/chandnipasupathy/Python-basics/blob/main/Py_Strings.ipynb\" target=\"_parent\"><img src=\"https://colab.research.google.com/assets/colab-badge.svg\" alt=\"Open In Colab\"/></a>"
      ]
    },
    {
      "cell_type": "markdown",
      "source": [
        "strings - immutable, ordered, supports indexing and slicing\n",
        "Indicated by \"\",'',\"\"\" \"\"\", \"\"\"  '   \"\"\".\n",
        "\n",
        "strings - slicing, modification, concatenation,format, escape.\n",
        "**slicing** -  [start:stop:step], len()\n",
        "**modification** - upper(),lower(),replace(),strip(),split()\n",
        "**concatenation** - use '+' sign\n",
        "**format** - unlike concatenation use f\"   placeholders{} / modifiers \" with or without math funstiin inside placeholders\n",
        "**escape **- use of \\\n"
      ],
      "metadata": {
        "id": "Eiauv_Qmdkb9"
      }
    },
    {
      "cell_type": "code",
      "execution_count": 5,
      "metadata": {
        "colab": {
          "base_uri": "https://localhost:8080/",
          "height": 106
        },
        "id": "Pq2NCY7tiilk",
        "outputId": "e0ab9f2a-a31d-4efa-9a74-000101caab8f"
      },
      "outputs": [
        {
          "output_type": "error",
          "ename": "SyntaxError",
          "evalue": "unterminated string literal (detected at line 6) (ipython-input-2562630491.py, line 6)",
          "traceback": [
            "\u001b[0;36m  File \u001b[0;32m\"/tmp/ipython-input-2562630491.py\"\u001b[0;36m, line \u001b[0;32m6\u001b[0m\n\u001b[0;31m    print('hello'l')\u001b[0m\n\u001b[0m                  ^\u001b[0m\n\u001b[0;31mSyntaxError\u001b[0m\u001b[0;31m:\u001b[0m unterminated string literal (detected at line 6)\n"
          ]
        }
      ],
      "source": [
        "#simple print use case\n",
        "print(\"hello\")\n",
        "print('hello')\n",
        "print(\"\"\"hello\"\"\")\n",
        "print(\"\"\" hello'l\"\"\") #doc string\n",
        "print('hello'l') #error due to doc string so use \"\"\" ' \"\"\""
      ]
    },
    {
      "cell_type": "code",
      "source": [
        "a= 'hello'\n",
        "print(a)"
      ],
      "metadata": {
        "colab": {
          "base_uri": "https://localhost:8080/"
        },
        "id": "fcWs6SupeSIw",
        "outputId": "a95402a8-cc4d-4a5e-b17e-347d126b6864"
      },
      "execution_count": 6,
      "outputs": [
        {
          "output_type": "stream",
          "name": "stdout",
          "text": [
            "hello\n"
          ]
        }
      ]
    },
    {
      "cell_type": "code",
      "source": [
        "#Multi line strings\n",
        "a = \"\"\"Lorem ipsum dolor sit amet,\n",
        "consectetur adipiscing elit,\n",
        "sed do eiusmod tempor incididunt\n",
        "ut labore et dolore magna aliqua.\"\"\"\n",
        "print(a)"
      ],
      "metadata": {
        "colab": {
          "base_uri": "https://localhost:8080/"
        },
        "id": "lKVe1T0Pe_0U",
        "outputId": "8ab2e40a-821e-44e3-8b9f-78ef11395c33"
      },
      "execution_count": 7,
      "outputs": [
        {
          "output_type": "stream",
          "name": "stdout",
          "text": [
            "Lorem ipsum dolor sit amet,\n",
            "consectetur adipiscing elit,\n",
            "sed do eiusmod tempor incididunt\n",
            "ut labore et dolore magna aliqua.\n"
          ]
        }
      ]
    },
    {
      "cell_type": "code",
      "source": [
        "#string as array\n",
        "a = 'hello world'\n",
        "print(a[1])"
      ],
      "metadata": {
        "colab": {
          "base_uri": "https://localhost:8080/"
        },
        "id": "h_sDsQ85fGWp",
        "outputId": "aa580dbc-0b4b-4dbc-9d5c-75fff0c348de"
      },
      "execution_count": 8,
      "outputs": [
        {
          "output_type": "stream",
          "name": "stdout",
          "text": [
            "e\n"
          ]
        }
      ]
    },
    {
      "cell_type": "code",
      "source": [
        "#indexing in strings [start:stop:step]\n",
        "a = 'hello world'\n",
        "print(a[1:4])"
      ],
      "metadata": {
        "colab": {
          "base_uri": "https://localhost:8080/"
        },
        "id": "l94h4kkUfYDx",
        "outputId": "cdd755ce-6da2-46c2-f0da-ee17a7f5a401"
      },
      "execution_count": 10,
      "outputs": [
        {
          "output_type": "stream",
          "name": "stdout",
          "text": [
            "ell\n"
          ]
        }
      ]
    },
    {
      "cell_type": "code",
      "source": [
        "# functions of strings len(),lower(),upper(),strip(),replace(),split() (.method - access the methods like using a dot a.upper() and not upper(a) )\n",
        "#len() - measures the length of the string\n",
        "a = 'hello'\n",
        "len(a)\n",
        "#lower(),upper() - conversion to lower and upper case of the font\n",
        "a.upper()\n",
        "a.lower()\n",
        "#strip() - removes white spaces in start and end\n",
        "a = '   hello, world   '\n",
        "print(a.strip())\n",
        "#replace() - replaces characters\n",
        "a = 'hello world'\n",
        "print(a.replace('l','a'))\n",
        "#split - split using characters in between\n",
        "a = 'hello,world'\n",
        "print(a.split(','))"
      ],
      "metadata": {
        "colab": {
          "base_uri": "https://localhost:8080/"
        },
        "id": "mnzHBt6Rf8Hy",
        "outputId": "5cb8155e-80e3-4997-ce46-7796f5db85e2"
      },
      "execution_count": 19,
      "outputs": [
        {
          "output_type": "stream",
          "name": "stdout",
          "text": [
            "hello, world\n",
            "heaao worad\n",
            "['hello', 'world']\n"
          ]
        }
      ]
    },
    {
      "cell_type": "code",
      "source": [
        "#concatenation using + combine twp strings\n",
        "a = 'hello'\n",
        "b = 'world'\n",
        "#c = a+b (or) to add space in between\n",
        "c = a+' '+b\n",
        "c"
      ],
      "metadata": {
        "colab": {
          "base_uri": "https://localhost:8080/",
          "height": 36
        },
        "id": "URZm62lGgkPi",
        "outputId": "854ae080-ebdf-4e80-ed84-da3bee9f537c"
      },
      "execution_count": 23,
      "outputs": [
        {
          "output_type": "execute_result",
          "data": {
            "text/plain": [
              "'hello world'"
            ],
            "application/vnd.google.colaboratory.intrinsic+json": {
              "type": "string"
            }
          },
          "metadata": {},
          "execution_count": 23
        }
      ]
    },
    {
      "cell_type": "code",
      "source": [
        "##\n",
        "#string formats - cant add using + for sentences and functions so use placeholders and modifiers\n",
        "#note placeholders can include math functions also.\n",
        " height = 5.4\n",
        " text = 'my height is'+ height\n",
        " print(text)\n",
        "\n",
        "#use placeholders/modifiers\n",
        "height = 5.4\n",
        "salary = 50000.00\n",
        "text =f\"my height is {height}\" #placeholder\n",
        "text = f\" my salary is {salary:,.2f}\" #modifier :.2f for two digits after a decimal\n",
        "text = f\"my salary is {salary * height:,.2f}\"\n",
        "print(text)"
      ],
      "metadata": {
        "colab": {
          "base_uri": "https://localhost:8080/"
        },
        "id": "a9LCFk17la7w",
        "outputId": "43e7a1aa-83a8-487d-b378-69fd90a91ac0"
      },
      "execution_count": 38,
      "outputs": [
        {
          "output_type": "stream",
          "name": "stdout",
          "text": [
            "my salary is 270,000.00\n"
          ]
        }
      ]
    },
    {
      "cell_type": "code",
      "source": [],
      "metadata": {
        "id": "85aRYcR-mtkk"
      },
      "execution_count": null,
      "outputs": []
    }
  ]
}